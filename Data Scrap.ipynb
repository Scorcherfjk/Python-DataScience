{
 "cells": [
  {
   "cell_type": "code",
   "execution_count": 1,
   "metadata": {},
   "outputs": [],
   "source": [
    "import pandas as pd"
   ]
  },
  {
   "cell_type": "code",
   "execution_count": 8,
   "metadata": {},
   "outputs": [],
   "source": [
    "df = pd.read_csv(\"report_scrap20180816.csv\")"
   ]
  },
  {
   "cell_type": "code",
   "execution_count": 9,
   "metadata": {},
   "outputs": [
    {
     "data": {
      "text/html": [
       "<div>\n",
       "<style scoped>\n",
       "    .dataframe tbody tr th:only-of-type {\n",
       "        vertical-align: middle;\n",
       "    }\n",
       "\n",
       "    .dataframe tbody tr th {\n",
       "        vertical-align: top;\n",
       "    }\n",
       "\n",
       "    .dataframe thead th {\n",
       "        text-align: right;\n",
       "    }\n",
       "</style>\n",
       "<table border=\"1\" class=\"dataframe\">\n",
       "  <thead>\n",
       "    <tr style=\"text-align: right;\">\n",
       "      <th></th>\n",
       "      <th>machine</th>\n",
       "      <th>part_id</th>\n",
       "      <th>start</th>\n",
       "      <th>end</th>\n",
       "      <th>good</th>\n",
       "      <th>total</th>\n",
       "      <th>scrap</th>\n",
       "    </tr>\n",
       "  </thead>\n",
       "  <tbody>\n",
       "    <tr>\n",
       "      <th>0</th>\n",
       "      <td>Entubadora</td>\n",
       "      <td>SW31909</td>\n",
       "      <td>2018-06-11 00:00:00</td>\n",
       "      <td>2018-06-11 00:04:29</td>\n",
       "      <td>0.0</td>\n",
       "      <td>384.33</td>\n",
       "      <td>0</td>\n",
       "    </tr>\n",
       "    <tr>\n",
       "      <th>1</th>\n",
       "      <td>Entubadora</td>\n",
       "      <td>SW36347</td>\n",
       "      <td>2018-06-11 00:04:29</td>\n",
       "      <td>2018-06-11 00:14:22</td>\n",
       "      <td>0.0</td>\n",
       "      <td>873.80</td>\n",
       "      <td>0</td>\n",
       "    </tr>\n",
       "    <tr>\n",
       "      <th>2</th>\n",
       "      <td>Entubadora</td>\n",
       "      <td>SW36348</td>\n",
       "      <td>2018-06-11 00:14:22</td>\n",
       "      <td>2018-06-11 00:37:18</td>\n",
       "      <td>0.0</td>\n",
       "      <td>2098.70</td>\n",
       "      <td>0</td>\n",
       "    </tr>\n",
       "    <tr>\n",
       "      <th>3</th>\n",
       "      <td>Entubadora</td>\n",
       "      <td>SW27168</td>\n",
       "      <td>2018-06-11 00:37:18</td>\n",
       "      <td>2018-06-11 01:00:09</td>\n",
       "      <td>0.0</td>\n",
       "      <td>2047.39</td>\n",
       "      <td>0</td>\n",
       "    </tr>\n",
       "    <tr>\n",
       "      <th>4</th>\n",
       "      <td>Entubadora</td>\n",
       "      <td>SW36342</td>\n",
       "      <td>2018-06-11 01:00:09</td>\n",
       "      <td>2018-06-11 01:51:48</td>\n",
       "      <td>0.0</td>\n",
       "      <td>8056.71</td>\n",
       "      <td>0</td>\n",
       "    </tr>\n",
       "  </tbody>\n",
       "</table>\n",
       "</div>"
      ],
      "text/plain": [
       "      machine  part_id                start                  end  good  \\\n",
       "0  Entubadora  SW31909  2018-06-11 00:00:00  2018-06-11 00:04:29   0.0   \n",
       "1  Entubadora  SW36347  2018-06-11 00:04:29  2018-06-11 00:14:22   0.0   \n",
       "2  Entubadora  SW36348  2018-06-11 00:14:22  2018-06-11 00:37:18   0.0   \n",
       "3  Entubadora  SW27168  2018-06-11 00:37:18  2018-06-11 01:00:09   0.0   \n",
       "4  Entubadora  SW36342  2018-06-11 01:00:09  2018-06-11 01:51:48   0.0   \n",
       "\n",
       "     total  scrap  \n",
       "0   384.33      0  \n",
       "1   873.80      0  \n",
       "2  2098.70      0  \n",
       "3  2047.39      0  \n",
       "4  8056.71      0  "
      ]
     },
     "execution_count": 9,
     "metadata": {},
     "output_type": "execute_result"
    }
   ],
   "source": [
    "df.head()"
   ]
  },
  {
   "cell_type": "code",
   "execution_count": 10,
   "metadata": {},
   "outputs": [
    {
     "data": {
      "text/html": [
       "<div>\n",
       "<style scoped>\n",
       "    .dataframe tbody tr th:only-of-type {\n",
       "        vertical-align: middle;\n",
       "    }\n",
       "\n",
       "    .dataframe tbody tr th {\n",
       "        vertical-align: top;\n",
       "    }\n",
       "\n",
       "    .dataframe thead th {\n",
       "        text-align: right;\n",
       "    }\n",
       "</style>\n",
       "<table border=\"1\" class=\"dataframe\">\n",
       "  <thead>\n",
       "    <tr style=\"text-align: right;\">\n",
       "      <th></th>\n",
       "      <th>machine</th>\n",
       "      <th>part_id</th>\n",
       "      <th>start</th>\n",
       "      <th>end</th>\n",
       "      <th>good</th>\n",
       "      <th>total</th>\n",
       "      <th>scrap</th>\n",
       "    </tr>\n",
       "  </thead>\n",
       "  <tbody>\n",
       "    <tr>\n",
       "      <th>440</th>\n",
       "      <td>Entubadora</td>\n",
       "      <td>GT33386</td>\n",
       "      <td>2018-06-19 21:44:58</td>\n",
       "      <td>2018-06-19 22:16:10</td>\n",
       "      <td>33.00</td>\n",
       "      <td>33.00</td>\n",
       "      <td>0</td>\n",
       "    </tr>\n",
       "    <tr>\n",
       "      <th>441</th>\n",
       "      <td>Entubadora</td>\n",
       "      <td>GT33387</td>\n",
       "      <td>2018-06-19 22:16:10</td>\n",
       "      <td>2018-06-19 22:31:11</td>\n",
       "      <td>57.00</td>\n",
       "      <td>57.00</td>\n",
       "      <td>0</td>\n",
       "    </tr>\n",
       "    <tr>\n",
       "      <th>442</th>\n",
       "      <td>Entubadora</td>\n",
       "      <td>5910-1</td>\n",
       "      <td>2018-06-19 22:31:11</td>\n",
       "      <td>2018-06-19 22:50:31</td>\n",
       "      <td>46.00</td>\n",
       "      <td>46.00</td>\n",
       "      <td>0</td>\n",
       "    </tr>\n",
       "    <tr>\n",
       "      <th>443</th>\n",
       "      <td>Entubadora</td>\n",
       "      <td>5920-2</td>\n",
       "      <td>2018-06-19 22:50:31</td>\n",
       "      <td>2018-06-19 23:34:23</td>\n",
       "      <td>75.00</td>\n",
       "      <td>75.00</td>\n",
       "      <td>0</td>\n",
       "    </tr>\n",
       "    <tr>\n",
       "      <th>444</th>\n",
       "      <td>Entubadora</td>\n",
       "      <td>PX06914</td>\n",
       "      <td>2018-06-19 23:34:23</td>\n",
       "      <td>2018-06-20 00:00:00</td>\n",
       "      <td>487.36</td>\n",
       "      <td>487.36</td>\n",
       "      <td>0</td>\n",
       "    </tr>\n",
       "  </tbody>\n",
       "</table>\n",
       "</div>"
      ],
      "text/plain": [
       "        machine  part_id                start                  end    good  \\\n",
       "440  Entubadora  GT33386  2018-06-19 21:44:58  2018-06-19 22:16:10   33.00   \n",
       "441  Entubadora  GT33387  2018-06-19 22:16:10  2018-06-19 22:31:11   57.00   \n",
       "442  Entubadora   5910-1  2018-06-19 22:31:11  2018-06-19 22:50:31   46.00   \n",
       "443  Entubadora   5920-2  2018-06-19 22:50:31  2018-06-19 23:34:23   75.00   \n",
       "444  Entubadora  PX06914  2018-06-19 23:34:23  2018-06-20 00:00:00  487.36   \n",
       "\n",
       "      total  scrap  \n",
       "440   33.00      0  \n",
       "441   57.00      0  \n",
       "442   46.00      0  \n",
       "443   75.00      0  \n",
       "444  487.36      0  "
      ]
     },
     "execution_count": 10,
     "metadata": {},
     "output_type": "execute_result"
    }
   ],
   "source": [
    "df.tail()"
   ]
  },
  {
   "cell_type": "code",
   "execution_count": 12,
   "metadata": {},
   "outputs": [
    {
     "data": {
      "text/plain": [
       "machine     object\n",
       "part_id     object\n",
       "start       object\n",
       "end         object\n",
       "good       float64\n",
       "total      float64\n",
       "scrap        int64\n",
       "dtype: object"
      ]
     },
     "execution_count": 12,
     "metadata": {},
     "output_type": "execute_result"
    }
   ],
   "source": [
    "df.dtypes"
   ]
  },
  {
   "cell_type": "code",
   "execution_count": 13,
   "metadata": {},
   "outputs": [
    {
     "data": {
      "text/html": [
       "<div>\n",
       "<style scoped>\n",
       "    .dataframe tbody tr th:only-of-type {\n",
       "        vertical-align: middle;\n",
       "    }\n",
       "\n",
       "    .dataframe tbody tr th {\n",
       "        vertical-align: top;\n",
       "    }\n",
       "\n",
       "    .dataframe thead th {\n",
       "        text-align: right;\n",
       "    }\n",
       "</style>\n",
       "<table border=\"1\" class=\"dataframe\">\n",
       "  <thead>\n",
       "    <tr style=\"text-align: right;\">\n",
       "      <th></th>\n",
       "      <th>good</th>\n",
       "      <th>total</th>\n",
       "      <th>scrap</th>\n",
       "    </tr>\n",
       "  </thead>\n",
       "  <tbody>\n",
       "    <tr>\n",
       "      <th>count</th>\n",
       "      <td>445.000000</td>\n",
       "      <td>445.000000</td>\n",
       "      <td>445.0</td>\n",
       "    </tr>\n",
       "    <tr>\n",
       "      <th>mean</th>\n",
       "      <td>249.441708</td>\n",
       "      <td>298.761258</td>\n",
       "      <td>0.0</td>\n",
       "    </tr>\n",
       "    <tr>\n",
       "      <th>std</th>\n",
       "      <td>361.534791</td>\n",
       "      <td>564.669151</td>\n",
       "      <td>0.0</td>\n",
       "    </tr>\n",
       "    <tr>\n",
       "      <th>min</th>\n",
       "      <td>0.000000</td>\n",
       "      <td>0.000000</td>\n",
       "      <td>0.0</td>\n",
       "    </tr>\n",
       "    <tr>\n",
       "      <th>25%</th>\n",
       "      <td>53.990000</td>\n",
       "      <td>60.000000</td>\n",
       "      <td>0.0</td>\n",
       "    </tr>\n",
       "    <tr>\n",
       "      <th>50%</th>\n",
       "      <td>162.690000</td>\n",
       "      <td>170.000000</td>\n",
       "      <td>0.0</td>\n",
       "    </tr>\n",
       "    <tr>\n",
       "      <th>75%</th>\n",
       "      <td>295.190000</td>\n",
       "      <td>313.720000</td>\n",
       "      <td>0.0</td>\n",
       "    </tr>\n",
       "    <tr>\n",
       "      <th>max</th>\n",
       "      <td>3082.890000</td>\n",
       "      <td>8056.710000</td>\n",
       "      <td>0.0</td>\n",
       "    </tr>\n",
       "  </tbody>\n",
       "</table>\n",
       "</div>"
      ],
      "text/plain": [
       "              good        total  scrap\n",
       "count   445.000000   445.000000  445.0\n",
       "mean    249.441708   298.761258    0.0\n",
       "std     361.534791   564.669151    0.0\n",
       "min       0.000000     0.000000    0.0\n",
       "25%      53.990000    60.000000    0.0\n",
       "50%     162.690000   170.000000    0.0\n",
       "75%     295.190000   313.720000    0.0\n",
       "max    3082.890000  8056.710000    0.0"
      ]
     },
     "execution_count": 13,
     "metadata": {},
     "output_type": "execute_result"
    }
   ],
   "source": [
    "df.describe()"
   ]
  },
  {
   "cell_type": "code",
   "execution_count": 24,
   "metadata": {},
   "outputs": [
    {
     "data": {
      "text/html": [
       "<div>\n",
       "<style scoped>\n",
       "    .dataframe tbody tr th:only-of-type {\n",
       "        vertical-align: middle;\n",
       "    }\n",
       "\n",
       "    .dataframe tbody tr th {\n",
       "        vertical-align: top;\n",
       "    }\n",
       "\n",
       "    .dataframe thead th {\n",
       "        text-align: right;\n",
       "    }\n",
       "</style>\n",
       "<table border=\"1\" class=\"dataframe\">\n",
       "  <thead>\n",
       "    <tr style=\"text-align: right;\">\n",
       "      <th></th>\n",
       "      <th>machine</th>\n",
       "      <th>part_id</th>\n",
       "      <th>start</th>\n",
       "      <th>end</th>\n",
       "      <th>good</th>\n",
       "      <th>total</th>\n",
       "      <th>scrap</th>\n",
       "    </tr>\n",
       "  </thead>\n",
       "  <tbody>\n",
       "    <tr>\n",
       "      <th>0</th>\n",
       "      <td>Entubadora</td>\n",
       "      <td>SW36342</td>\n",
       "      <td>2018-06-11 00:00:00</td>\n",
       "      <td>2018-06-11 00:04:29</td>\n",
       "      <td>0.0</td>\n",
       "      <td>0.0</td>\n",
       "      <td>0.0</td>\n",
       "    </tr>\n",
       "  </tbody>\n",
       "</table>\n",
       "</div>"
      ],
      "text/plain": [
       "      machine  part_id                start                  end  good  total  \\\n",
       "0  Entubadora  SW36342  2018-06-11 00:00:00  2018-06-11 00:04:29   0.0    0.0   \n",
       "\n",
       "   scrap  \n",
       "0    0.0  "
      ]
     },
     "execution_count": 24,
     "metadata": {},
     "output_type": "execute_result"
    }
   ],
   "source": [
    "df2 = df.mode()\n",
    "df2.head(1)"
   ]
  },
  {
   "cell_type": "code",
   "execution_count": 30,
   "metadata": {},
   "outputs": [
    {
     "data": {
      "text/plain": [
       "good     249.441708\n",
       "total    298.761258\n",
       "scrap      0.000000\n",
       "dtype: float64"
      ]
     },
     "execution_count": 30,
     "metadata": {},
     "output_type": "execute_result"
    }
   ],
   "source": [
    "df.mean()"
   ]
  },
  {
   "cell_type": "code",
   "execution_count": 31,
   "metadata": {},
   "outputs": [
    {
     "data": {
      "text/plain": [
       "good     162.69\n",
       "total    170.00\n",
       "scrap      0.00\n",
       "dtype: float64"
      ]
     },
     "execution_count": 31,
     "metadata": {},
     "output_type": "execute_result"
    }
   ],
   "source": [
    "df.median()"
   ]
  },
  {
   "cell_type": "code",
   "execution_count": 32,
   "metadata": {},
   "outputs": [
    {
     "data": {
      "text/plain": [
       "good     361.534791\n",
       "total    564.669151\n",
       "scrap      0.000000\n",
       "dtype: float64"
      ]
     },
     "execution_count": 32,
     "metadata": {},
     "output_type": "execute_result"
    }
   ],
   "source": [
    "df.std()"
   ]
  },
  {
   "cell_type": "code",
   "execution_count": 33,
   "metadata": {},
   "outputs": [
    {
     "data": {
      "text/plain": [
       "good     130707.405264\n",
       "total    318851.249943\n",
       "scrap         0.000000\n",
       "dtype: float64"
      ]
     },
     "execution_count": 33,
     "metadata": {},
     "output_type": "execute_result"
    }
   ],
   "source": [
    "df.var()"
   ]
  },
  {
   "cell_type": "code",
   "execution_count": null,
   "metadata": {},
   "outputs": [],
   "source": []
  },
  {
   "cell_type": "code",
   "execution_count": null,
   "metadata": {},
   "outputs": [],
   "source": []
  },
  {
   "cell_type": "code",
   "execution_count": null,
   "metadata": {},
   "outputs": [],
   "source": []
  },
  {
   "cell_type": "code",
   "execution_count": null,
   "metadata": {},
   "outputs": [],
   "source": []
  },
  {
   "cell_type": "code",
   "execution_count": null,
   "metadata": {},
   "outputs": [],
   "source": []
  },
  {
   "cell_type": "code",
   "execution_count": null,
   "metadata": {},
   "outputs": [],
   "source": []
  },
  {
   "cell_type": "markdown",
   "metadata": {},
   "source": [
    "# clave wifi AlumnosSSID\n",
    "\n",
    "\n",
    "# udepAlumnos"
   ]
  },
  {
   "cell_type": "code",
   "execution_count": 1,
   "metadata": {},
   "outputs": [],
   "source": [
    "def factorial(num):\n",
    "    if num > 1 :\n",
    "        num = num * factorial(num - 1)\n",
    "    return num"
   ]
  },
  {
   "cell_type": "code",
   "execution_count": 2,
   "metadata": {},
   "outputs": [
    {
     "data": {
      "text/plain": [
       "120"
      ]
     },
     "execution_count": 2,
     "metadata": {},
     "output_type": "execute_result"
    }
   ],
   "source": [
    "factorial(5)"
   ]
  },
  {
   "cell_type": "code",
   "execution_count": null,
   "metadata": {},
   "outputs": [],
   "source": []
  }
 ],
 "metadata": {
  "kernelspec": {
   "display_name": "Python 3",
   "language": "python",
   "name": "python3"
  },
  "language_info": {
   "codemirror_mode": {
    "name": "ipython",
    "version": 3
   },
   "file_extension": ".py",
   "mimetype": "text/x-python",
   "name": "python",
   "nbconvert_exporter": "python",
   "pygments_lexer": "ipython3",
   "version": "3.6.5"
  }
 },
 "nbformat": 4,
 "nbformat_minor": 2
}
