{
 "cells": [
  {
   "cell_type": "code",
   "execution_count": 1,
   "metadata": {},
   "outputs": [
    {
     "name": "stdout",
     "output_type": "stream",
     "text": [
      "2018-09-20T11:17:28-05:00\n",
      "\n",
      "CPython 3.6.5\n",
      "IPython 6.4.0\n",
      "\n",
      "compiler   : MSC v.1900 64 bit (AMD64)\n",
      "system     : Windows\n",
      "release    : 10\n",
      "machine    : AMD64\n",
      "processor  : Intel64 Family 6 Model 78 Stepping 3, GenuineIntel\n",
      "CPU cores  : 4\n",
      "interpreter: 64bit\n"
     ]
    }
   ],
   "source": [
    "%load_ext watermark\n",
    "%watermark"
   ]
  },
  {
   "cell_type": "code",
   "execution_count": 171,
   "metadata": {},
   "outputs": [
    {
     "name": "stdout",
     "output_type": "stream",
     "text": [
      "List Identity  0 from ('192.168.1.35', 44818): {\n",
      "    \"count\": 1,\n",
      "    \"item[0].type_id\": 12,\n",
      "    \"item[0].length\": 56,\n",
      "    \"item[0].identity_object.version\": 1,\n",
      "    \"item[0].identity_object.sin_family\": 2,\n",
      "    \"item[0].identity_object.sin_port\": 44818,\n",
      "    \"item[0].identity_object.sin_addr\": \"192.168.1.35\",\n",
      "    \"item[0].identity_object.vendor_id\": 1,\n",
      "    \"item[0].identity_object.device_type\": 12,\n",
      "    \"item[0].identity_object.product_code\": 200,\n",
      "    \"item[0].identity_object.product_revision\": 1802,\n",
      "    \"item[0].identity_object.status_word\": 48,\n",
      "    \"item[0].identity_object.serial_number\": 12174578,\n",
      "    \"item[0].identity_object.product_name\": \"1756-EN2TR/C 217021900\",\n",
      "    \"item[0].identity_object.state\": 3\n",
      "}\n"
     ]
    }
   ],
   "source": [
    "!python -m cpppo.server.enip.client --udp --broadcast --list-identity -a 192.168.1.35"
   ]
  },
  {
   "cell_type": "code",
   "execution_count": 4,
   "metadata": {},
   "outputs": [
    {
     "data": {
      "text/plain": [
       "['1756-EN2TR/C 217021900']"
      ]
     },
     "execution_count": 4,
     "metadata": {},
     "output_type": "execute_result"
    }
   ],
   "source": [
    "from cpppo.server.enip.get_attribute import proxy_simple\n",
    "product_name, = proxy_simple( \"192.168.1.35\" ).read( [('@1/1/7','SSTRING')] )\n",
    "product_name"
   ]
  },
  {
   "cell_type": "code",
   "execution_count": 72,
   "metadata": {},
   "outputs": [
    {
     "name": "stdout",
     "output_type": "stream",
     "text": [
      "1756-L71/B LOGIX5571\n"
     ]
    }
   ],
   "source": [
    "from cpppo.server.enip.get_attribute import proxy\n",
    "via = proxy( \"192.168.1.35\" )\n",
    "\n",
    "with via:\n",
    "    vendor, product_name = via.read( [('@1/1/1','INT'), ('@1/1/7','SSTRING')] )\n",
    "    \n",
    "print(product_name[0])"
   ]
  },
  {
   "cell_type": "code",
   "execution_count": 78,
   "metadata": {},
   "outputs": [
    {
     "name": "stdout",
     "output_type": "stream",
     "text": [
      "RecetasPL[0].Medida.Data[0-7]\n"
     ]
    }
   ],
   "source": [
    "from cpppo.server.enip.client import connector\n",
    "from cpppo.server.enip import client\n",
    "host = \"192.168.1.35\"\n",
    "\n",
    "tags = [\"RecetasPL[0].Medida.LEN\"]\n",
    "\n",
    "with connector( host=host ) as conn:\n",
    "    for index,descr,op,reply,status,value in conn.pipeline(operations=client.parse_operations( tags ), depth=2):\n",
    "        val = str(value[0])\n",
    "        valor = \"RecetasPL[0].Medida.Data[0-\"+val+\"]\""
   ]
  },
  {
   "cell_type": "code",
   "execution_count": 62,
   "metadata": {},
   "outputs": [
    {
     "name": "stdout",
     "output_type": "stream",
     "text": [
      "RecetasPL[0].Medida.Data[7]\n"
     ]
    }
   ],
   "source": [
    "from cpppo.server.enip.client import connector\n",
    "from cpppo.server.enip import client\n",
    "host = \"192.168.1.35\"\n",
    "\n",
    "tags = [\"RecetasPL[0].Medida.LEN\"]\n",
    "\n",
    "with connector( host=host ) as conn:\n",
    "    for index,descr,op,reply,status,value in conn.pipeline(operations=client.parse_operations( tags ), depth=2):\n",
    "        valor = \"RecetasPL[0].Medida.Data\"+str(value)\n",
    "        print(valor)"
   ]
  },
  {
   "cell_type": "code",
   "execution_count": 71,
   "metadata": {},
   "outputs": [
    {
     "name": "stdout",
     "output_type": "stream",
     "text": [
      "Single Read  Tag  RecetasPL.Medida.Data[0-7] | PL70156\u0000\n"
     ]
    }
   ],
   "source": [
    "from cpppo.server.enip.client import connector\n",
    "from cpppo.server.enip import client\n",
    "host = \"192.168.1.35\"\n",
    "\n",
    "tags = [\"RecetasPL[0].Medida.Data[0-7]\"]\n",
    "\n",
    "with connector( host=host ) as conn:\n",
    "    for index,descr,op,reply,status,value in conn.pipeline(operations=client.parse_operations( tags ), depth=2):\n",
    "        print( \"{} | {}\".format( descr, ''.join(chr(i) for i in value) ))"
   ]
  },
  {
   "cell_type": "code",
   "execution_count": 68,
   "metadata": {},
   "outputs": [
    {
     "name": "stdout",
     "output_type": "stream",
     "text": [
      "Single Read  Tag  RecetasPL.VelocidadMax[0] | [17]\n",
      "Single Write Tag  RecetasPL.MedidaNumElementos[0-0] | True\n"
     ]
    }
   ],
   "source": [
    "from cpppo.server.enip.client import connector\n",
    "from cpppo.server.enip import client\n",
    "host = \"192.168.1.35\"\n",
    "tags = [\"RecetasPL[0].VelocidadMax\",\"RecetasPL[0].MedidaNumElementos=(DINT)200\"]\n",
    "\n",
    "with connector( host=host ) as conn:\n",
    "    for index,descr,op,reply,status,value in conn.pipeline(operations=client.parse_operations( tags ), depth=2 ):\n",
    "        print( \"{} | {}\".format( descr, value ))"
   ]
  },
  {
   "cell_type": "code",
   "execution_count": 70,
   "metadata": {},
   "outputs": [
    {
     "name": "stdout",
     "output_type": "stream",
     "text": [
      "Single Read  Tag  RecetasPL.VelocidadMax[0] | [17]\n",
      "Single Read  Tag  RecetasPL.MedidaNumElementos[0] | [200]\n"
     ]
    }
   ],
   "source": [
    "from cpppo.server.enip.client import connector\n",
    "from cpppo.server.enip import client\n",
    "host = \"192.168.1.35\"\n",
    "tags = [\"RecetasPL[0].VelocidadMax\",\"RecetasPL[0].MedidaNumElementos\"]\n",
    "\n",
    "with connector( host=host ) as conn:\n",
    "    for index,descr,op,reply,status,value in conn.pipeline(operations=client.parse_operations( tags ), depth=2 ):\n",
    "        print( \"{} | {}\".format( descr, value ))"
   ]
  },
  {
   "cell_type": "code",
   "execution_count": 161,
   "metadata": {},
   "outputs": [
    {
     "name": "stdout",
     "output_type": "stream",
     "text": [
      "PL70156\n"
     ]
    },
    {
     "data": {
      "text/plain": [
       "'PL70156'"
      ]
     },
     "execution_count": 161,
     "metadata": {},
     "output_type": "execute_result"
    }
   ],
   "source": [
    "def leerString(host,indice,etiqueta):\n",
    "    from cpppo.server.enip.client import connector\n",
    "    from cpppo.server.enip import client\n",
    "    \n",
    "    tags = [\"RecetasPL[{}].{}.LEN\".format(indice,etiqueta)]\n",
    "    \n",
    "    with connector( host=host ) as conn:\n",
    "        for index,descr,op,reply,status,value in conn.pipeline(operations=client.parse_operations( tags ), depth=2):\n",
    "            val = str(value[0])\n",
    "            valor = [\"RecetasPL[0].Medida.Data[0-\"+val+\"]\"]\n",
    "            with connector( host=host ) as conn:\n",
    "                for index,descr,op,reply,status,value in conn.pipeline(operations=client.parse_operations( valor ), depth=2):\n",
    "                    final = ''.join(chr(i) for i in value).strip(\"\\x00\")\n",
    "                    return final\n",
    "\n",
    "var = leerString(\"192.168.1.35\",0,\"Medida\")\n",
    "print(var)\n",
    "var"
   ]
  },
  {
   "cell_type": "code",
   "execution_count": 173,
   "metadata": {},
   "outputs": [
    {
     "name": "stdout",
     "output_type": "stream",
     "text": [
      "('RecetasPL[0].VelocidadMax=(DINT)20', True)\n",
      "('RecetasPL[0].MedidaNumElementos', 200)\n",
      "=============================================================\n",
      "('RecetasPL[0].VelocidadMax', 20)\n",
      "('RecetasPL[0].MedidaNumElementos', 200)\n"
     ]
    }
   ],
   "source": [
    "def DINT(host, tags):\n",
    "    from cpppo.server.enip.client import connector\n",
    "    from cpppo.server.enip import client\n",
    "    \n",
    "    with connector( host=host ) as conn:\n",
    "        for index,descr,op,reply,status,value in conn.pipeline(operations=client.parse_operations( tags ), depth=2 ):\n",
    "            if value == True or value == False:\n",
    "                yield value\n",
    "            else:\n",
    "                yield value[0]\n",
    "                \n",
    "tags = [\"RecetasPL[0].VelocidadMax=(DINT)20\",\"RecetasPL[0].MedidaNumElementos\"]\n",
    "datos = DINT(\"192.168.1.35\", tags)\n",
    "for i in zip(tags, datos):\n",
    "    print(i)\n",
    "    \n",
    "print(\"=============================================================\")\n",
    "\n",
    "tags = [\"RecetasPL[0].VelocidadMax\",\"RecetasPL[0].MedidaNumElementos\"]\n",
    "datos = DINT(\"192.168.1.35\", tags)\n",
    "for i in zip(tags, datos):\n",
    "    print(i)"
   ]
  },
  {
   "cell_type": "code",
   "execution_count": 169,
   "metadata": {},
   "outputs": [
    {
     "name": "stdout",
     "output_type": "stream",
     "text": [
      "PL70156\n",
      "PL70156\n",
      "PL70156\n",
      "PL70156\n"
     ]
    }
   ],
   "source": [
    "for i in range(0,299):\n",
    "    var = leerString(\"192.168.1.35\",i,\"Medida\")\n",
    "    if len(var) > 1:\n",
    "        print(var)\n",
    "    else:\n",
    "        break"
   ]
  },
  {
   "cell_type": "code",
   "execution_count": null,
   "metadata": {},
   "outputs": [],
   "source": []
  }
 ],
 "metadata": {
  "kernelspec": {
   "display_name": "Python 3",
   "language": "python",
   "name": "python3"
  },
  "language_info": {
   "codemirror_mode": {
    "name": "ipython",
    "version": 3
   },
   "file_extension": ".py",
   "mimetype": "text/x-python",
   "name": "python",
   "nbconvert_exporter": "python",
   "pygments_lexer": "ipython3",
   "version": "3.6.5"
  }
 },
 "nbformat": 4,
 "nbformat_minor": 2
}
