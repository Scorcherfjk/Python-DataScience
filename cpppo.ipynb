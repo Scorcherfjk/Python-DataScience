{
 "cells": [
  {
   "cell_type": "code",
   "execution_count": 1,
   "metadata": {},
   "outputs": [
    {
     "name": "stdout",
     "output_type": "stream",
     "text": [
      "2018-08-13T14:26:55-05:00\n",
      "\n",
      "CPython 3.6.5\n",
      "IPython 6.4.0\n",
      "\n",
      "compiler   : MSC v.1900 64 bit (AMD64)\n",
      "system     : Windows\n",
      "release    : 10\n",
      "machine    : AMD64\n",
      "processor  : Intel64 Family 6 Model 78 Stepping 3, GenuineIntel\n",
      "CPU cores  : 4\n",
      "interpreter: 64bit\n"
     ]
    }
   ],
   "source": [
    "%load_ext watermark\n",
    "%watermark"
   ]
  },
  {
   "cell_type": "code",
   "execution_count": 6,
   "metadata": {},
   "outputs": [
    {
     "name": "stdout",
     "output_type": "stream",
     "text": [
      "List Identity  0 from ('192.168.1.140', 44818): {\n",
      "    \"count\": 1,\n",
      "    \"item[0].type_id\": 12,\n",
      "    \"item[0].length\": 46,\n",
      "    \"item[0].identity_object.version\": 1,\n",
      "    \"item[0].identity_object.sin_family\": 2,\n",
      "    \"item[0].identity_object.sin_port\": 44818,\n",
      "    \"item[0].identity_object.sin_addr\": \"192.168.1.140\",\n",
      "    \"item[0].identity_object.vendor_id\": 1,\n",
      "    \"item[0].identity_object.device_type\": 12,\n",
      "    \"item[0].identity_object.product_code\": 200,\n",
      "    \"item[0].identity_object.product_revision\": 2570,\n",
      "    \"item[0].identity_object.status_word\": 48,\n",
      "    \"item[0].identity_object.serial_number\": 12174641,\n",
      "    \"item[0].identity_object.product_name\": \"1756-EN2TR/C\",\n",
      "    \"item[0].identity_object.state\": 3\n",
      "}\n"
     ]
    }
   ],
   "source": [
    "!python -m cpppo.server.enip.client --udp --broadcast --list-identity -a 192.168.1.140"
   ]
  },
  {
   "cell_type": "code",
   "execution_count": 5,
   "metadata": {},
   "outputs": [
    {
     "data": {
      "text/plain": [
       "[1, 0]"
      ]
     },
     "execution_count": 5,
     "metadata": {},
     "output_type": "execute_result"
    }
   ],
   "source": [
    "from cpppo.server.enip.get_attribute import proxy_simple\n",
    "product_name, = proxy_simple( \"192.168.1.140\" ).read( [('@1/0/2','SINT')] )\n",
    "product_name"
   ]
  },
  {
   "cell_type": "code",
   "execution_count": 6,
   "metadata": {},
   "outputs": [
    {
     "data": {
      "text/plain": [
       "[12, 0]"
      ]
     },
     "execution_count": 6,
     "metadata": {},
     "output_type": "execute_result"
    }
   ],
   "source": [
    "from cpppo.server.enip.get_attribute import proxy_simple\n",
    "product_name, = proxy_simple( \"192.168.1.140\" ).read( [('@1/1/2','SINT')] )\n",
    "product_name"
   ]
  },
  {
   "cell_type": "code",
   "execution_count": 7,
   "metadata": {},
   "outputs": [
    {
     "data": {
      "text/plain": [
       "['1756-EN2TR/C']"
      ]
     },
     "execution_count": 7,
     "metadata": {},
     "output_type": "execute_result"
    }
   ],
   "source": [
    "from cpppo.server.enip.get_attribute import proxy_simple\n",
    "product_name, = proxy_simple( \"192.168.1.140\" ).read( [('@1/1/7','SSTRING')] )\n",
    "product_name"
   ]
  },
  {
   "cell_type": "code",
   "execution_count": 8,
   "metadata": {},
   "outputs": [
    {
     "name": "stdout",
     "output_type": "stream",
     "text": [
      "Mon Aug 13 14:27:20 2018: Single Read  Tag  scada[0-10]: None\n",
      "Mon Aug 13 14:27:20 2018: Single Write Tag  scada[1-1]: None\n",
      "Mon Aug 13 14:27:20 2018: Single Read  Tag  scada[0-10]: None\n"
     ]
    }
   ],
   "source": [
    "from __future__ import print_function\n",
    "from cpppo.server.enip import client\n",
    "import time\n",
    "\n",
    "host = \"192.168.1.140\"\n",
    "tags = [ \"scada[0-10]\", \"scada[1]=99\", \"scada[0-10]\" ]\n",
    "\n",
    "with client.connector( host=host ) as conn:\n",
    "    for index,descr,op,reply,status,value in conn.pipeline(\n",
    "            operations=client.parse_operations( tags ), depth=2 ):\n",
    "        print( \"%s: %20s: %s\" % ( time.ctime(), descr, value ))"
   ]
  },
  {
   "cell_type": "code",
   "execution_count": 9,
   "metadata": {},
   "outputs": [],
   "source": [
    "from __future__ import print_function\n",
    "from cpppo.server.enip import client\n",
    "import time\n",
    "\n",
    "host = \"192.168.1.140\"\n",
    "tags = [ \"scada[0-10]\", \"scada[1]=99\", \"scada[0-10]\" ]\n",
    "\n",
    "with client.connector( host=host ) as conn:\n",
    "    req1 = conn.write( \"scada[1-3]\", data=[111,222,333] )\n",
    "    req2 = conn.read( \"scada[2]\" )\n",
    "    rpy1 = next( conn )\n",
    "    rpy2 = next( conn )"
   ]
  },
  {
   "cell_type": "code",
   "execution_count": 10,
   "metadata": {},
   "outputs": [
    {
     "name": "stdout",
     "output_type": "stream",
     "text": [
      "Mon Aug 13 14:27:21 2018:   0: (OK      ) Single G_A_S      @0x0001/1/1 == [1, 0]\n",
      "Mon Aug 13 14:27:21 2018:   1: (OK      ) Single G_A_S      @0x0001/1/7 == [12, 49, 55, 53, 54, 45, 69, 78, 50, 84, 82, 47, 67]\n"
     ]
    }
   ],
   "source": [
    "from __future__ import print_function\n",
    "\n",
    "import time\n",
    "\n",
    "from cpppo.server.enip.client import connector\n",
    "from cpppo.server.enip.get_attribute import attribute_operations\n",
    "\n",
    "host = \"192.168.1.140\" # Your MicroLogix IP address\n",
    "send_path = ''\n",
    "route_path = False\n",
    "attributes = [ '@1/1/1', '@1/1/7' ]\n",
    "timeout = 1.0\n",
    "depth = 1\n",
    "multiple = 0\n",
    "\n",
    "with connector( host=host ) as connection:\n",
    "   operations = attribute_operations( attributes, send_path=send_path, route_path=route_path )\n",
    "   for idx,dsc,op,rpy,sts,val in connection.pipeline(\n",
    "           operations=operations, depth=depth, multiple=multiple, timeout=timeout ):\n",
    "       print( \"%s: %3d: (%-8s) %s == %s\" % ( time.ctime(), idx, sts if sts else \"OK\", dsc, val ))"
   ]
  },
  {
   "cell_type": "code",
   "execution_count": 13,
   "metadata": {},
   "outputs": [
    {
     "name": "stdout",
     "output_type": "stream",
     "text": [
      "[1] ['1756-L71/B LOGIX5571']\n"
     ]
    }
   ],
   "source": [
    "from cpppo.server.enip.get_attribute import proxy\n",
    "via = proxy( \"192.168.1.140\" )\n",
    "\n",
    "with via:\n",
    "    vendor,product_name = via.read( [('@1/1/1','INT'), ('@1/1/7','SSTRING')] )\n",
    "    \n",
    "print(vendor,product_name)"
   ]
  },
  {
   "cell_type": "code",
   "execution_count": 8,
   "metadata": {},
   "outputs": [
    {
     "name": "stdout",
     "output_type": "stream",
     "text": [
      "Tue Aug 14 11:03:44 2018 | Single Read  Tag  etiqueta_prueba | [12345]\n",
      "Tue Aug 14 11:03:44 2018 | Single Read  Tag  etiqueta | None\n"
     ]
    }
   ],
   "source": [
    "from cpppo.server.enip.client import connector\n",
    "import time\n",
    "\n",
    "host = \"192.168.1.140\"\n",
    "tags = [ \"etiqueta_prueba\", \"etiqueta\"]\n",
    "\n",
    "with connector( host=host ) as conn:\n",
    "    for index,descr,op,reply,status,value in conn.pipeline(operations=client.parse_operations( tags ), depth=2 ):\n",
    "        print( \"{} | {} | {}\".format( time.ctime(), descr, value ))\n",
    "    conn.close()"
   ]
  },
  {
   "cell_type": "code",
   "execution_count": 60,
   "metadata": {},
   "outputs": [],
   "source": [
    "with connector(host=HOST) as conn:\n",
    "    re = conn.read( \"etiqueta_prueba\")"
   ]
  },
  {
   "cell_type": "code",
   "execution_count": 66,
   "metadata": {},
   "outputs": [
    {
     "name": "stdout",
     "output_type": "stream",
     "text": [
      "{'path': {'segment': [{'symbolic': 'etiqueta modificada'}]}, 'read_frag': {'elements': 1, 'offset': 0}, 'service': 82, 'input': bytearray(b'R\\t\\x91\\x0fetiqueta_prueba\\x00\\x01\\x00\\x00\\x00\\x00\\x00')}\n",
      "etiqueta modificada\n",
      "{'path': {'segment': [{'symbolic': 'etiqueta modificada'}]}, 'read_frag': {'elements': 1, 'offset': 0}, 'service': 82, 'input': bytearray(b'R\\t\\x91\\x0fetiqueta_prueba\\x00\\x01\\x00\\x00\\x00\\x00\\x00')}\n",
      "{'path': {'segment': [{'symbolic': 'etiqueta modificada'}]}, 'read_frag': {'elements': 1, 'offset': 0}, 'service': 82, 'input': bytearray(b'R\\t\\x91\\x0fetiqueta_prueba\\x00\\x01\\x00\\x00\\x00\\x00\\x00')}\n"
     ]
    }
   ],
   "source": [
    "print(re)\n",
    "print(re['path']['segment'][0]['symbolic'])\n",
    "re['path']['segment'][0]['symbolic']=\"etiqueta modificada\"\n",
    "print(re)\n",
    "conn.close()\n",
    "print(re)"
   ]
  },
  {
   "cell_type": "code",
   "execution_count": 15,
   "metadata": {},
   "outputs": [
    {
     "name": "stdout",
     "output_type": "stream",
     "text": [
      "{'path': {'segment': [{'symbolic': 'etiqueta_prueba'}]}, 'read_frag': {'elements': 1, 'offset': 0}, 'service': 82, 'input': bytearray(b'R\\t\\x91\\x0fetiqueta_prueba\\x00\\x01\\x00\\x00\\x00\\x00\\x00')}\n"
     ]
    },
    {
     "ename": "error",
     "evalue": "required argument is not an integer",
     "output_type": "error",
     "traceback": [
      "\u001b[1;31m---------------------------------------------------------------------------\u001b[0m",
      "\u001b[1;31merror\u001b[0m                                     Traceback (most recent call last)",
      "\u001b[1;32m<ipython-input-15-bb38a9f605a0>\u001b[0m in \u001b[0;36m<module>\u001b[1;34m()\u001b[0m\n\u001b[0;32m      6\u001b[0m     \u001b[0mreg\u001b[0m \u001b[1;33m=\u001b[0m \u001b[0mconn\u001b[0m\u001b[1;33m.\u001b[0m\u001b[0mread\u001b[0m\u001b[1;33m(\u001b[0m \u001b[1;34m\"etiqueta_prueba\"\u001b[0m \u001b[1;33m)\u001b[0m \u001b[1;31m# Will be None, 'til poll succeeds\u001b[0m\u001b[1;33m\u001b[0m\u001b[0m\n\u001b[0;32m      7\u001b[0m     \u001b[0mprint\u001b[0m\u001b[1;33m(\u001b[0m\u001b[0mreg\u001b[0m\u001b[1;33m)\u001b[0m\u001b[1;33m\u001b[0m\u001b[0m\n\u001b[1;32m----> 8\u001b[1;33m     \u001b[0mreqx\u001b[0m \u001b[1;33m=\u001b[0m \u001b[0mconn\u001b[0m\u001b[1;33m.\u001b[0m\u001b[0mwrite\u001b[0m\u001b[1;33m(\u001b[0m \u001b[1;34m\"etiqueta_prueba\"\u001b[0m\u001b[1;33m,\u001b[0m \u001b[1;34m\"54321\"\u001b[0m \u001b[1;33m)\u001b[0m \u001b[1;31m# Change the value in the PLC synchronously\u001b[0m\u001b[1;33m\u001b[0m\u001b[0m\n\u001b[0m\u001b[0;32m      9\u001b[0m     \u001b[0mreg\u001b[0m \u001b[1;33m=\u001b[0m \u001b[0mconn\u001b[0m\u001b[1;33m.\u001b[0m\u001b[0mread\u001b[0m\u001b[1;33m(\u001b[0m \u001b[1;34m\"etiqueta_prueba\"\u001b[0m \u001b[1;33m)\u001b[0m\u001b[1;33m\u001b[0m\u001b[0m\n\u001b[0;32m     10\u001b[0m     \u001b[0mprint\u001b[0m\u001b[1;33m(\u001b[0m\u001b[0mreg\u001b[0m\u001b[1;33m)\u001b[0m\u001b[1;33m\u001b[0m\u001b[0m\n",
      "\u001b[1;32mC:\\Anaconda3\\lib\\site-packages\\cpppo\\server\\enip\\client.py\u001b[0m in \u001b[0;36mwrite\u001b[1;34m(self, path, data, elements, offset, tag_type, route_path, send_path, timeout, send, sender_context)\u001b[0m\n\u001b[0;32m    739\u001b[0m             self.unconnected_send(\n\u001b[0;32m    740\u001b[0m                 \u001b[0mrequest\u001b[0m\u001b[1;33m=\u001b[0m\u001b[0mreq\u001b[0m\u001b[1;33m,\u001b[0m \u001b[0mroute_path\u001b[0m\u001b[1;33m=\u001b[0m\u001b[0mroute_path\u001b[0m\u001b[1;33m,\u001b[0m \u001b[0msend_path\u001b[0m\u001b[1;33m=\u001b[0m\u001b[0msend_path\u001b[0m\u001b[1;33m,\u001b[0m \u001b[0mtimeout\u001b[0m\u001b[1;33m=\u001b[0m\u001b[0mtimeout\u001b[0m\u001b[1;33m,\u001b[0m\u001b[1;33m\u001b[0m\u001b[0m\n\u001b[1;32m--> 741\u001b[1;33m                 sender_context=sender_context )\n\u001b[0m\u001b[0;32m    742\u001b[0m         \u001b[1;32mreturn\u001b[0m \u001b[0mreq\u001b[0m\u001b[1;33m\u001b[0m\u001b[0m\n\u001b[0;32m    743\u001b[0m \u001b[1;33m\u001b[0m\u001b[0m\n",
      "\u001b[1;32mC:\\Anaconda3\\lib\\site-packages\\cpppo\\server\\enip\\client.py\u001b[0m in \u001b[0;36munconnected_send\u001b[1;34m(self, request, route_path, send_path, timeout, sender_context)\u001b[0m\n\u001b[0;32m    804\u001b[0m         \u001b[0mus\u001b[0m\u001b[1;33m.\u001b[0m\u001b[0mrequest\u001b[0m              \u001b[1;33m=\u001b[0m \u001b[0mrequest\u001b[0m\u001b[1;33m\u001b[0m\u001b[0m\n\u001b[0;32m    805\u001b[0m \u001b[1;33m\u001b[0m\u001b[0m\n\u001b[1;32m--> 806\u001b[1;33m         \u001b[0mus\u001b[0m\u001b[1;33m.\u001b[0m\u001b[0mrequest\u001b[0m\u001b[1;33m.\u001b[0m\u001b[0minput\u001b[0m        \u001b[1;33m=\u001b[0m \u001b[0mbytearray\u001b[0m\u001b[1;33m(\u001b[0m \u001b[0mdevice\u001b[0m\u001b[1;33m.\u001b[0m\u001b[0mdialect\u001b[0m\u001b[1;33m.\u001b[0m\u001b[0mproduce\u001b[0m\u001b[1;33m(\u001b[0m \u001b[0mus\u001b[0m\u001b[1;33m.\u001b[0m\u001b[0mrequest\u001b[0m \u001b[1;33m)\u001b[0m\u001b[1;33m)\u001b[0m \u001b[1;31m# eg. logix.Logix\u001b[0m\u001b[1;33m\u001b[0m\u001b[0m\n\u001b[0m\u001b[0;32m    807\u001b[0m \u001b[1;33m\u001b[0m\u001b[0m\n\u001b[0;32m    808\u001b[0m         \u001b[1;32mreturn\u001b[0m \u001b[0mself\u001b[0m\u001b[1;33m.\u001b[0m\u001b[0mcip_send\u001b[0m\u001b[1;33m(\u001b[0m \u001b[0mcip\u001b[0m\u001b[1;33m=\u001b[0m\u001b[0mcip\u001b[0m\u001b[1;33m,\u001b[0m \u001b[0msender_context\u001b[0m\u001b[1;33m=\u001b[0m\u001b[0msender_context\u001b[0m\u001b[1;33m,\u001b[0m \u001b[0mtimeout\u001b[0m\u001b[1;33m=\u001b[0m\u001b[0mtimeout\u001b[0m \u001b[1;33m)\u001b[0m\u001b[1;33m\u001b[0m\u001b[0m\n",
      "\u001b[1;32mC:\\Anaconda3\\lib\\site-packages\\cpppo\\server\\enip\\logix.py\u001b[0m in \u001b[0;36mproduce\u001b[1;34m(cls, data)\u001b[0m\n\u001b[0;32m    424\u001b[0m             result\t       += UDINT.produce(\tdata.write_frag.setdefault(\n\u001b[0;32m    425\u001b[0m                 'offset', 0x00000000 ))\n\u001b[1;32m--> 426\u001b[1;33m             \u001b[0mresult\u001b[0m             \u001b[1;33m+=\u001b[0m \u001b[0mtyped_data\u001b[0m\u001b[1;33m.\u001b[0m\u001b[0mproduce\u001b[0m\u001b[1;33m(\u001b[0m   \u001b[0mdata\u001b[0m\u001b[1;33m.\u001b[0m\u001b[0mwrite_frag\u001b[0m \u001b[1;33m)\u001b[0m\u001b[1;33m\u001b[0m\u001b[0m\n\u001b[0m\u001b[0;32m    427\u001b[0m         elif ( data.get( 'service' ) == cls.WR_TAG_RPY\n\u001b[0;32m    428\u001b[0m                or data.get( 'service' ) == cls.WR_FRG_RPY ):\n",
      "\u001b[1;32mC:\\Anaconda3\\lib\\site-packages\\cpppo\\server\\enip\\parser.py\u001b[0m in \u001b[0;36mproduce\u001b[1;34m(cls, data, tag_type)\u001b[0m\n\u001b[0;32m   1773\u001b[0m             \u001b[1;34m\"Unknown (or no) typed data found for tag_type %r: %r\"\u001b[0m \u001b[1;33m%\u001b[0m \u001b[1;33m(\u001b[0m \u001b[0mtag_type\u001b[0m\u001b[1;33m,\u001b[0m \u001b[0mdata\u001b[0m \u001b[1;33m)\u001b[0m\u001b[1;33m\u001b[0m\u001b[0m\n\u001b[0;32m   1774\u001b[0m         \u001b[0mproduce\u001b[0m                 \u001b[1;33m=\u001b[0m \u001b[0mcls\u001b[0m\u001b[1;33m.\u001b[0m\u001b[0mTYPES_SUPPORTED\u001b[0m\u001b[1;33m[\u001b[0m\u001b[0mtag_type\u001b[0m\u001b[1;33m]\u001b[0m\u001b[1;33m.\u001b[0m\u001b[0mproduce\u001b[0m\u001b[1;33m\u001b[0m\u001b[0m\n\u001b[1;32m-> 1775\u001b[1;33m         \u001b[1;32mreturn\u001b[0m \u001b[1;34mb''\u001b[0m\u001b[1;33m.\u001b[0m\u001b[0mjoin\u001b[0m\u001b[1;33m(\u001b[0m \u001b[0mproduce\u001b[0m\u001b[1;33m(\u001b[0m \u001b[0mv\u001b[0m \u001b[1;33m)\u001b[0m \u001b[1;32mfor\u001b[0m \u001b[0mv\u001b[0m \u001b[1;32min\u001b[0m \u001b[0mdata\u001b[0m\u001b[1;33m.\u001b[0m\u001b[0mget\u001b[0m\u001b[1;33m(\u001b[0m \u001b[1;34m'data'\u001b[0m \u001b[1;33m)\u001b[0m\u001b[1;33m)\u001b[0m\u001b[1;33m\u001b[0m\u001b[0m\n\u001b[0m\u001b[0;32m   1776\u001b[0m \u001b[1;33m\u001b[0m\u001b[0m\n\u001b[0;32m   1777\u001b[0m     \u001b[1;33m@\u001b[0m\u001b[0mclassmethod\u001b[0m\u001b[1;33m\u001b[0m\u001b[0m\n",
      "\u001b[1;32mC:\\Anaconda3\\lib\\site-packages\\cpppo\\server\\enip\\parser.py\u001b[0m in \u001b[0;36m<genexpr>\u001b[1;34m(.0)\u001b[0m\n\u001b[0;32m   1773\u001b[0m             \u001b[1;34m\"Unknown (or no) typed data found for tag_type %r: %r\"\u001b[0m \u001b[1;33m%\u001b[0m \u001b[1;33m(\u001b[0m \u001b[0mtag_type\u001b[0m\u001b[1;33m,\u001b[0m \u001b[0mdata\u001b[0m \u001b[1;33m)\u001b[0m\u001b[1;33m\u001b[0m\u001b[0m\n\u001b[0;32m   1774\u001b[0m         \u001b[0mproduce\u001b[0m                 \u001b[1;33m=\u001b[0m \u001b[0mcls\u001b[0m\u001b[1;33m.\u001b[0m\u001b[0mTYPES_SUPPORTED\u001b[0m\u001b[1;33m[\u001b[0m\u001b[0mtag_type\u001b[0m\u001b[1;33m]\u001b[0m\u001b[1;33m.\u001b[0m\u001b[0mproduce\u001b[0m\u001b[1;33m\u001b[0m\u001b[0m\n\u001b[1;32m-> 1775\u001b[1;33m         \u001b[1;32mreturn\u001b[0m \u001b[1;34mb''\u001b[0m\u001b[1;33m.\u001b[0m\u001b[0mjoin\u001b[0m\u001b[1;33m(\u001b[0m \u001b[0mproduce\u001b[0m\u001b[1;33m(\u001b[0m \u001b[0mv\u001b[0m \u001b[1;33m)\u001b[0m \u001b[1;32mfor\u001b[0m \u001b[0mv\u001b[0m \u001b[1;32min\u001b[0m \u001b[0mdata\u001b[0m\u001b[1;33m.\u001b[0m\u001b[0mget\u001b[0m\u001b[1;33m(\u001b[0m \u001b[1;34m'data'\u001b[0m \u001b[1;33m)\u001b[0m\u001b[1;33m)\u001b[0m\u001b[1;33m\u001b[0m\u001b[0m\n\u001b[0m\u001b[0;32m   1776\u001b[0m \u001b[1;33m\u001b[0m\u001b[0m\n\u001b[0;32m   1777\u001b[0m     \u001b[1;33m@\u001b[0m\u001b[0mclassmethod\u001b[0m\u001b[1;33m\u001b[0m\u001b[0m\n",
      "\u001b[1;32mC:\\Anaconda3\\lib\\site-packages\\cpppo\\server\\enip\\parser.py\u001b[0m in \u001b[0;36mproduce\u001b[1;34m(cls, value)\u001b[0m\n\u001b[0;32m    170\u001b[0m     \u001b[1;33m@\u001b[0m\u001b[0mclassmethod\u001b[0m\u001b[1;33m\u001b[0m\u001b[0m\n\u001b[0;32m    171\u001b[0m     \u001b[1;32mdef\u001b[0m \u001b[0mproduce\u001b[0m\u001b[1;33m(\u001b[0m \u001b[0mcls\u001b[0m\u001b[1;33m,\u001b[0m \u001b[0mvalue\u001b[0m \u001b[1;33m)\u001b[0m\u001b[1;33m:\u001b[0m\u001b[1;33m\u001b[0m\u001b[0m\n\u001b[1;32m--> 172\u001b[1;33m         \u001b[1;32mreturn\u001b[0m \u001b[0mstruct\u001b[0m\u001b[1;33m.\u001b[0m\u001b[0mpack\u001b[0m\u001b[1;33m(\u001b[0m \u001b[0mcls\u001b[0m\u001b[1;33m.\u001b[0m\u001b[0mstruct_format\u001b[0m\u001b[1;33m,\u001b[0m \u001b[0mvalue\u001b[0m \u001b[1;33m)\u001b[0m\u001b[1;33m\u001b[0m\u001b[0m\n\u001b[0m\u001b[0;32m    173\u001b[0m \u001b[1;33m\u001b[0m\u001b[0m\n\u001b[0;32m    174\u001b[0m \u001b[1;32mclass\u001b[0m \u001b[0mBOOL\u001b[0m\u001b[1;33m(\u001b[0m \u001b[0mTYPE\u001b[0m \u001b[1;33m)\u001b[0m\u001b[1;33m:\u001b[0m\u001b[1;33m\u001b[0m\u001b[0m\n",
      "\u001b[1;31merror\u001b[0m: required argument is not an integer"
     ]
    }
   ],
   "source": [
    "from cpppo.server.enip import client\n",
    "\n",
    "HOST = \"192.168.1.140\"\n",
    "\n",
    "with client.connector( host=HOST ) as conn:\n",
    "    reg = conn.read( \"etiqueta_prueba\" ) # Will be None, 'til poll succeeds\n",
    "    print(reg)\n",
    "    reqx = conn.write( \"etiqueta_prueba\", \"54321\" ) # Change the value in the PLC synchronously\n",
    "    reg = conn.read( \"etiqueta_prueba\" )\n",
    "    print(reg)"
   ]
  },
  {
   "cell_type": "code",
   "execution_count": 2,
   "metadata": {},
   "outputs": [
    {
     "ename": "AssertionError",
     "evalue": "pymodbus is not yet Python3 compatible",
     "output_type": "error",
     "traceback": [
      "\u001b[1;31m---------------------------------------------------------------------------\u001b[0m",
      "\u001b[1;31mAssertionError\u001b[0m                            Traceback (most recent call last)",
      "\u001b[1;32m<ipython-input-2-c61509db9ecb>\u001b[0m in \u001b[0;36m<module>\u001b[1;34m()\u001b[0m\n\u001b[1;32m----> 1\u001b[1;33m \u001b[1;32mfrom\u001b[0m \u001b[0mcpppo\u001b[0m\u001b[1;33m.\u001b[0m\u001b[0mremote\u001b[0m \u001b[1;32mimport\u001b[0m \u001b[0mplc_modbus\u001b[0m\u001b[1;33m\u001b[0m\u001b[0m\n\u001b[0m\u001b[0;32m      2\u001b[0m \u001b[1;33m\u001b[0m\u001b[0m\n\u001b[0;32m      3\u001b[0m \u001b[1;31m# Connect to a PLC: site TW's PLC 3, at IP address 10.0.111.123, port 502.\u001b[0m\u001b[1;33m\u001b[0m\u001b[1;33m\u001b[0m\u001b[0m\n\u001b[0;32m      4\u001b[0m \u001b[1;31m# If using modbus_sim, use: ( 'fake', host=\"localhost\", port=1502, rate=.5 )\u001b[0m\u001b[1;33m\u001b[0m\u001b[1;33m\u001b[0m\u001b[0m\n\u001b[0;32m      5\u001b[0m \u001b[0mp\u001b[0m \u001b[1;33m=\u001b[0m \u001b[0mplc_modbus\u001b[0m\u001b[1;33m.\u001b[0m\u001b[0mpoller_modbus\u001b[0m\u001b[1;33m(\u001b[0m \u001b[1;34m'twplc3'\u001b[0m\u001b[1;33m,\u001b[0m \u001b[0mhost\u001b[0m\u001b[1;33m=\u001b[0m\u001b[1;34m\"192.168.1.140\"\u001b[0m\u001b[1;33m,\u001b[0m \u001b[0mrate\u001b[0m\u001b[1;33m=\u001b[0m\u001b[1;36m.5\u001b[0m \u001b[1;33m)\u001b[0m\u001b[1;33m\u001b[0m\u001b[0m\n",
      "\u001b[1;32mC:\\Anaconda3\\lib\\site-packages\\cpppo\\remote\\plc_modbus.py\u001b[0m in \u001b[0;36m<module>\u001b[1;34m()\u001b[0m\n\u001b[0;32m     35\u001b[0m \u001b[1;33m\u001b[0m\u001b[0m\n\u001b[0;32m     36\u001b[0m \u001b[1;32mfrom\u001b[0m \u001b[1;33m.\u001b[0m\u001b[1;33m.\u001b[0m \u001b[1;32mimport\u001b[0m \u001b[0mmisc\u001b[0m\u001b[1;33m\u001b[0m\u001b[0m\n\u001b[1;32m---> 37\u001b[1;33m \u001b[1;32mfrom\u001b[0m \u001b[1;33m.\u001b[0m\u001b[0mpymodbus_fixes\u001b[0m \u001b[1;32mimport\u001b[0m \u001b[0mmodbus_client_timeout\u001b[0m\u001b[1;33m,\u001b[0m \u001b[0mmodbus_client_tcp\u001b[0m\u001b[1;33m\u001b[0m\u001b[0m\n\u001b[0m\u001b[0;32m     38\u001b[0m \u001b[1;32mfrom\u001b[0m \u001b[1;33m.\u001b[0m\u001b[0mplc\u001b[0m \u001b[1;32mimport\u001b[0m \u001b[0mpoller\u001b[0m\u001b[1;33m,\u001b[0m \u001b[0mPlcOffline\u001b[0m\u001b[1;33m\u001b[0m\u001b[0m\n\u001b[0;32m     39\u001b[0m \u001b[1;33m\u001b[0m\u001b[0m\n",
      "\u001b[1;32mC:\\Anaconda3\\lib\\site-packages\\cpppo\\remote\\pymodbus_fixes.py\u001b[0m in \u001b[0;36m<module>\u001b[1;34m()\u001b[0m\n\u001b[0;32m     57\u001b[0m \u001b[1;31m# to be Python3 socketserver interface-compatible.  When pymodbus is ported to\u001b[0m\u001b[1;33m\u001b[0m\u001b[1;33m\u001b[0m\u001b[0m\n\u001b[0;32m     58\u001b[0m \u001b[1;31m# Python3, this will not be necessary in the Python3 implementation.\u001b[0m\u001b[1;33m\u001b[0m\u001b[1;33m\u001b[0m\u001b[0m\n\u001b[1;32m---> 59\u001b[1;33m \u001b[1;32massert\u001b[0m \u001b[0msys\u001b[0m\u001b[1;33m.\u001b[0m\u001b[0mversion_info\u001b[0m\u001b[1;33m[\u001b[0m\u001b[1;36m0\u001b[0m\u001b[1;33m]\u001b[0m \u001b[1;33m<\u001b[0m \u001b[1;36m3\u001b[0m\u001b[1;33m,\u001b[0m \u001b[1;34m\"pymodbus is not yet Python3 compatible\"\u001b[0m\u001b[1;33m\u001b[0m\u001b[0m\n\u001b[0m\u001b[0;32m     60\u001b[0m \u001b[1;32mfrom\u001b[0m \u001b[0mpymodbus\u001b[0m \u001b[1;32mimport\u001b[0m \u001b[0m__version__\u001b[0m \u001b[1;32mas\u001b[0m \u001b[0mpymodbus_version\u001b[0m\u001b[1;33m\u001b[0m\u001b[0m\n\u001b[0;32m     61\u001b[0m from pymodbus.server.sync import (\n",
      "\u001b[1;31mAssertionError\u001b[0m: pymodbus is not yet Python3 compatible"
     ]
    }
   ],
   "source": [
    "from cpppo.remote import plc_modbus\n",
    "\n",
    "# Connect to a PLC: site TW's PLC 3, at IP address 10.0.111.123, port 502.\n",
    "# If using modbus_sim, use: ( 'fake', host=\"localhost\", port=1502, rate=.5 )\n",
    "p = plc_modbus.poller_modbus( 'twplc3', host=\"192.168.1.140\", rate=.5 )\n",
    "\n",
    "p.poll( 40001 )       # Begin polling address(es) in background Thread\n",
    "\n",
    "# ... later ...\n",
    "\n",
    "reg = p.read( 40001 ) # Will be None, 'til poll succeeds\n",
    "p.write( 40001, 123 ) # Change the value in the PLC synchronously\n",
    "reg = p.read( 40001 ) # Will eventually be 123, after next poll"
   ]
  },
  {
   "cell_type": "code",
   "execution_count": 3,
   "metadata": {},
   "outputs": [
    {
     "ename": "AssertionError",
     "evalue": "Failed to receive reply 2",
     "output_type": "error",
     "traceback": [
      "\u001b[1;31m---------------------------------------------------------------------------\u001b[0m",
      "\u001b[1;31mAssertionError\u001b[0m                            Traceback (most recent call last)",
      "\u001b[1;32m<ipython-input-3-bc38c6f9adbb>\u001b[0m in \u001b[0;36m<module>\u001b[1;34m()\u001b[0m\n\u001b[0;32m      8\u001b[0m     \u001b[1;32massert\u001b[0m \u001b[0mconn\u001b[0m\u001b[1;33m.\u001b[0m\u001b[0mreadable\u001b[0m\u001b[1;33m(\u001b[0m \u001b[0mtimeout\u001b[0m\u001b[1;33m=\u001b[0m\u001b[1;36m1.0\u001b[0m \u001b[1;33m)\u001b[0m\u001b[1;33m,\u001b[0m \u001b[1;34m\"Failed to receive reply 1\"\u001b[0m\u001b[1;33m\u001b[0m\u001b[0m\n\u001b[0;32m      9\u001b[0m     \u001b[0mrpy1\u001b[0m \u001b[1;33m=\u001b[0m \u001b[0mnext\u001b[0m\u001b[1;33m(\u001b[0m \u001b[0mconn\u001b[0m \u001b[1;33m)\u001b[0m\u001b[1;33m\u001b[0m\u001b[0m\n\u001b[1;32m---> 10\u001b[1;33m     \u001b[1;32massert\u001b[0m \u001b[0mconn\u001b[0m\u001b[1;33m.\u001b[0m\u001b[0mreadable\u001b[0m\u001b[1;33m(\u001b[0m \u001b[0mtimeout\u001b[0m\u001b[1;33m=\u001b[0m\u001b[1;36m1.0\u001b[0m \u001b[1;33m)\u001b[0m\u001b[1;33m,\u001b[0m \u001b[1;34m\"Failed to receive reply 2\"\u001b[0m\u001b[1;33m\u001b[0m\u001b[0m\n\u001b[0m\u001b[0;32m     11\u001b[0m     \u001b[0mrpy2\u001b[0m \u001b[1;33m=\u001b[0m \u001b[0mnext\u001b[0m\u001b[1;33m(\u001b[0m \u001b[0mconn\u001b[0m \u001b[1;33m)\u001b[0m\u001b[1;33m\u001b[0m\u001b[0m\n",
      "\u001b[1;31mAssertionError\u001b[0m: Failed to receive reply 2"
     ]
    }
   ],
   "source": [
    "from cpppo.server.enip import client\n",
    "\n",
    "host = \"192.168.1.140\"\n",
    "\n",
    "with client.connector( host=host ) as conn:\n",
    "    req1 = conn.write( \"scada[1-3]\", data=[111,222,333] )\n",
    "    req2 = conn.read( \"scada[2]\" )\n",
    "    assert conn.readable( timeout=1.0 ), \"Failed to receive reply 1\"\n",
    "    rpy1 = next( conn )\n",
    "    assert conn.readable( timeout=1.0 ), \"Failed to receive reply 2\"\n",
    "    rpy2 = next( conn )"
   ]
  },
  {
   "cell_type": "code",
   "execution_count": 32,
   "metadata": {},
   "outputs": [
    {
     "name": "stdout",
     "output_type": "stream",
     "text": [
      "['path.segment[0].symbolic', 'write_frag.elements', 'write_frag.offset', 'write_frag.data', 'write_frag.type', 'service', 'input']\n"
     ]
    }
   ],
   "source": [
    "from cpppo.server.enip import client\n",
    "with connector( host=host ) as conn:\n",
    "    conn.write(\"etiqueta\", [123])"
   ]
  },
  {
   "cell_type": "code",
   "execution_count": 66,
   "metadata": {
    "scrolled": true
   },
   "outputs": [
    {
     "name": "stdout",
     "output_type": "stream",
     "text": [
      "Tue Aug 14 14:45:23 2018 | Single Read  Tag  etiqueta_prueba | [12345]\n",
      "0 \n",
      " | Single Read  Tag  etiqueta_prueba \n",
      " | {'path': {'segment': [{'symbolic': 'etiqueta_prueba'}]}, 'read_tag': {'elements': 1}, 'service': 76, 'input': bytearray(b'L\\t\\x91\\x0fetiqueta_prueba\\x00\\x01\\x00')} \n",
      " | {'input': array('B', [204, 0, 0, 0, 196, 0, 57, 48, 0, 0]), 'service': 204, 'status': 0, 'status_ext': {'size': 0}, 'read_tag': {'type': 196, 'data': [12345]}} \n",
      " | 0 \n",
      " | [12345]\n",
      "Tue Aug 14 14:45:23 2018 | Single Write Tag  etiqueta | None\n",
      "1 \n",
      " | Single Write Tag  etiqueta \n",
      " | {'path': {'segment': [{'symbolic': 'etiqueta'}]}, 'write_tag': {'elements': 0, 'data': [], 'type': 202}, 'service': 77, 'input': bytearray(b'M\\x05\\x91\\x08etiqueta\\xca\\x00\\x00\\x00')} \n",
      " | {'input': array('B', [205, 0, 4, 1, 0, 0]), 'service': 205, 'status': 4, 'status_ext': {'size': 1, 'data': [0]}, 'write_tag': True} \n",
      " | (4, [0]) \n",
      " | None\n",
      "peer ======= ('192.168.1.140', 44818)\n",
      "enip.command ======= 111\n",
      "enip.length ======= 22\n",
      "enip.session_handle ======= 5570561\n",
      "enip.status ======= 0\n",
      "enip.sender_context.input ======= array('B', [0, 0, 0, 0, 0, 0, 0, 0])\n",
      "enip.options ======= 0\n",
      "enip.input ======= array('B', [0, 0, 0, 0, 0, 0, 2, 0, 0, 0, 0, 0, 178, 0, 6, 0, 211, 0, 255, 1, 7, 33])\n",
      "enip.CIP.send_data.interface ======= 0\n",
      "enip.CIP.send_data.timeout ======= 0\n",
      "enip.CIP.send_data.CPF.count ======= 2\n",
      "enip.CIP.send_data.CPF.item[0].type_id ======= 0\n",
      "enip.CIP.send_data.CPF.item[0].length ======= 0\n",
      "enip.CIP.send_data.CPF.item[1].type_id ======= 178\n",
      "enip.CIP.send_data.CPF.item[1].length ======= 6\n",
      "enip.CIP.send_data.CPF.item[1].unconnected_send.request.input ======= array('B', [211, 0, 255, 1, 7, 33])\n",
      "enip.CIP.send_data.CPF.item[1].unconnected_send.request.service ======= 211\n",
      "enip.CIP.send_data.CPF.item[1].unconnected_send.request.status ======= 255\n",
      "enip.CIP.send_data.CPF.item[1].unconnected_send.request.status_ext.size ======= 1\n",
      "enip.CIP.send_data.CPF.item[1].unconnected_send.request.status_ext.data ======= [8455]\n",
      "enip.CIP.send_data.CPF.item[1].unconnected_send.request.write_frag ======= True\n"
     ]
    }
   ],
   "source": [
    "from cpppo.server.enip.client import connector\n",
    "import time\n",
    "\n",
    "host = \"192.168.1.140\"\n",
    "tags = [ \"etiqueta_prueba\",\"etiqueta=(REAL)\"]\n",
    "\n",
    "with connector( host=host ) as conn:\n",
    "    for index,descr,op,reply,status,value in conn.pipeline(operations=client.parse_operations( tags ), depth=2 ):\n",
    "        print( \"{} | {} | {}\".format( time.ctime(), descr, value ))\n",
    "        print(\"{} \\n | {} \\n | {} \\n | {} \\n | {} \\n | {}\".format(index,descr,op,reply,status,value))\n",
    "    \n",
    "    req = conn.write(\"etiqueta_prueba\", [123])\n",
    "    assert conn.readable (timeout = 1.0), \"Falló la recepción de la respuesta\" \n",
    "    rpy = next (conn)\n",
    "    conn.unconnected_send(req)\n",
    "    for k,v in rpy.items():\n",
    "        print(\"{} ======= {}\".format(k,v))"
   ]
  },
  {
   "cell_type": "code",
   "execution_count": 65,
   "metadata": {},
   "outputs": [
    {
     "name": "stdout",
     "output_type": "stream",
     "text": [
      "Tue Aug 14 14:43:32 2018 | Single Read  Tag  etiqueta_prueba | [12345]\n",
      "Tue Aug 14 14:43:32 2018 | Single Read  Tag  etiqueta | None\n"
     ]
    }
   ],
   "source": [
    "host = \"192.168.1.140\"\n",
    "tags = [ \"etiqueta_prueba\",\"etiqueta\"]\n",
    "\n",
    "with connector( host=host ) as conn:\n",
    "    for index,descr,op,reply,status,value in conn.pipeline(operations=client.parse_operations( tags ), depth=2 ):\n",
    "        print( \"{} | {} | {}\".format( time.ctime(), descr, value ))"
   ]
  }
 ],
 "metadata": {
  "kernelspec": {
   "display_name": "Python 3",
   "language": "python",
   "name": "python3"
  },
  "language_info": {
   "codemirror_mode": {
    "name": "ipython",
    "version": 3
   },
   "file_extension": ".py",
   "mimetype": "text/x-python",
   "name": "python",
   "nbconvert_exporter": "python",
   "pygments_lexer": "ipython3",
   "version": "3.6.5"
  }
 },
 "nbformat": 4,
 "nbformat_minor": 2
}
