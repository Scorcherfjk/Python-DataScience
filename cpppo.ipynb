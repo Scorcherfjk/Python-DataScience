{
 "cells": [
  {
   "cell_type": "code",
   "execution_count": 1,
   "metadata": {},
   "outputs": [
    {
     "name": "stdout",
     "output_type": "stream",
     "text": [
      "2018-08-13T14:26:55-05:00\n",
      "\n",
      "CPython 3.6.5\n",
      "IPython 6.4.0\n",
      "\n",
      "compiler   : MSC v.1900 64 bit (AMD64)\n",
      "system     : Windows\n",
      "release    : 10\n",
      "machine    : AMD64\n",
      "processor  : Intel64 Family 6 Model 78 Stepping 3, GenuineIntel\n",
      "CPU cores  : 4\n",
      "interpreter: 64bit\n"
     ]
    }
   ],
   "source": [
    "%load_ext watermark\n",
    "%watermark"
   ]
  },
  {
   "cell_type": "code",
   "execution_count": 6,
   "metadata": {},
   "outputs": [
    {
     "name": "stdout",
     "output_type": "stream",
     "text": [
      "List Identity  0 from ('192.168.1.140', 44818): {\n",
      "    \"count\": 1,\n",
      "    \"item[0].type_id\": 12,\n",
      "    \"item[0].length\": 46,\n",
      "    \"item[0].identity_object.version\": 1,\n",
      "    \"item[0].identity_object.sin_family\": 2,\n",
      "    \"item[0].identity_object.sin_port\": 44818,\n",
      "    \"item[0].identity_object.sin_addr\": \"192.168.1.140\",\n",
      "    \"item[0].identity_object.vendor_id\": 1,\n",
      "    \"item[0].identity_object.device_type\": 12,\n",
      "    \"item[0].identity_object.product_code\": 200,\n",
      "    \"item[0].identity_object.product_revision\": 2570,\n",
      "    \"item[0].identity_object.status_word\": 48,\n",
      "    \"item[0].identity_object.serial_number\": 12174641,\n",
      "    \"item[0].identity_object.product_name\": \"1756-EN2TR/C\",\n",
      "    \"item[0].identity_object.state\": 3\n",
      "}\n"
     ]
    }
   ],
   "source": [
    "!python -m cpppo.server.enip.client --udp --broadcast --list-identity -a 255.255.255.255"
   ]
  },
  {
   "cell_type": "code",
   "execution_count": 5,
   "metadata": {},
   "outputs": [
    {
     "data": {
      "text/plain": [
       "[1, 0]"
      ]
     },
     "execution_count": 5,
     "metadata": {},
     "output_type": "execute_result"
    }
   ],
   "source": [
    "from cpppo.server.enip.get_attribute import proxy_simple\n",
    "product_name, = proxy_simple( \"192.168.1.140\" ).read( [('@1/0/2','SINT')] )\n",
    "product_name"
   ]
  },
  {
   "cell_type": "code",
   "execution_count": 6,
   "metadata": {},
   "outputs": [
    {
     "data": {
      "text/plain": [
       "[12, 0]"
      ]
     },
     "execution_count": 6,
     "metadata": {},
     "output_type": "execute_result"
    }
   ],
   "source": [
    "from cpppo.server.enip.get_attribute import proxy_simple\n",
    "product_name, = proxy_simple( \"192.168.1.140\" ).read( [('@1/1/2','SINT')] )\n",
    "product_name"
   ]
  },
  {
   "cell_type": "code",
   "execution_count": 7,
   "metadata": {},
   "outputs": [
    {
     "data": {
      "text/plain": [
       "['1756-EN2TR/C']"
      ]
     },
     "execution_count": 7,
     "metadata": {},
     "output_type": "execute_result"
    }
   ],
   "source": [
    "from cpppo.server.enip.get_attribute import proxy_simple\n",
    "product_name, = proxy_simple( \"192.168.1.140\" ).read( [('@1/1/7','SSTRING')] )\n",
    "product_name"
   ]
  },
  {
   "cell_type": "code",
   "execution_count": 8,
   "metadata": {},
   "outputs": [
    {
     "name": "stdout",
     "output_type": "stream",
     "text": [
      "Mon Aug 13 14:27:20 2018: Single Read  Tag  scada[0-10]: None\n",
      "Mon Aug 13 14:27:20 2018: Single Write Tag  scada[1-1]: None\n",
      "Mon Aug 13 14:27:20 2018: Single Read  Tag  scada[0-10]: None\n"
     ]
    }
   ],
   "source": [
    "from __future__ import print_function\n",
    "from cpppo.server.enip import client\n",
    "import time\n",
    "\n",
    "host = \"192.168.1.140\"\n",
    "tags = [ \"scada[0-10]\", \"scada[1]=99\", \"scada[0-10]\" ]\n",
    "\n",
    "with client.connector( host=host ) as conn:\n",
    "    for index,descr,op,reply,status,value in conn.pipeline(\n",
    "            operations=client.parse_operations( tags ), depth=2 ):\n",
    "        print( \"%s: %20s: %s\" % ( time.ctime(), descr, value ))"
   ]
  },
  {
   "cell_type": "code",
   "execution_count": 9,
   "metadata": {},
   "outputs": [],
   "source": [
    "from __future__ import print_function\n",
    "from cpppo.server.enip import client\n",
    "import time\n",
    "\n",
    "host = \"192.168.1.140\"\n",
    "tags = [ \"scada[0-10]\", \"scada[1]=99\", \"scada[0-10]\" ]\n",
    "\n",
    "with client.connector( host=host ) as conn:\n",
    "    req1 = conn.write( \"scada[1-3]\", data=[111,222,333] )\n",
    "    req2 = conn.read( \"scada[2]\" )\n",
    "    rpy1 = next( conn )\n",
    "    rpy2 = next( conn )"
   ]
  },
  {
   "cell_type": "code",
   "execution_count": 10,
   "metadata": {},
   "outputs": [
    {
     "name": "stdout",
     "output_type": "stream",
     "text": [
      "Mon Aug 13 14:27:21 2018:   0: (OK      ) Single G_A_S      @0x0001/1/1 == [1, 0]\n",
      "Mon Aug 13 14:27:21 2018:   1: (OK      ) Single G_A_S      @0x0001/1/7 == [12, 49, 55, 53, 54, 45, 69, 78, 50, 84, 82, 47, 67]\n"
     ]
    }
   ],
   "source": [
    "from __future__ import print_function\n",
    "\n",
    "import time\n",
    "\n",
    "from cpppo.server.enip.client import connector\n",
    "from cpppo.server.enip.get_attribute import attribute_operations\n",
    "\n",
    "host = \"192.168.1.140\" # Your MicroLogix IP address\n",
    "send_path = ''\n",
    "route_path = False\n",
    "attributes = [ '@1/1/1', '@1/1/7' ]\n",
    "timeout = 1.0\n",
    "depth = 1\n",
    "multiple = 0\n",
    "\n",
    "with connector( host=host ) as connection:\n",
    "   operations = attribute_operations( attributes, send_path=send_path, route_path=route_path )\n",
    "   for idx,dsc,op,rpy,sts,val in connection.pipeline(\n",
    "           operations=operations, depth=depth, multiple=multiple, timeout=timeout ):\n",
    "       print( \"%s: %3d: (%-8s) %s == %s\" % ( time.ctime(), idx, sts if sts else \"OK\", dsc, val ))"
   ]
  },
  {
   "cell_type": "code",
   "execution_count": 13,
   "metadata": {},
   "outputs": [
    {
     "name": "stdout",
     "output_type": "stream",
     "text": [
      "[1] ['1756-L71/B LOGIX5571']\n"
     ]
    }
   ],
   "source": [
    "from cpppo.server.enip.get_attribute import proxy\n",
    "via = proxy( \"192.168.1.140\" )\n",
    "\n",
    "with via:\n",
    "    vendor, product_name = via.read( [('@1/1/1','INT'), ('@1/1/7','SSTRING')] )\n",
    "    \n",
    "print(vendor,product_name)"
   ]
  },
  {
   "cell_type": "code",
   "execution_count": 8,
   "metadata": {},
   "outputs": [
    {
     "name": "stdout",
     "output_type": "stream",
     "text": [
      "Tue Aug 14 11:03:44 2018 | Single Read  Tag  etiqueta_prueba | [12345]\n",
      "Tue Aug 14 11:03:44 2018 | Single Read  Tag  etiqueta | None\n"
     ]
    }
   ],
   "source": [
    "from cpppo.server.enip.client import connector\n",
    "import time\n",
    "\n",
    "host = \"192.168.1.140\"\n",
    "tags = [ \"etiqueta_prueba\", \"etiqueta\"]\n",
    "\n",
    "with connector( host=host ) as conn:\n",
    "    for index,descr,op,reply,status,value in conn.pipeline(operations=client.parse_operations( tags ), depth=2 ):\n",
    "        print( \"{} | {} | {}\".format( time.ctime(), descr, value ))\n",
    "    conn.close()"
   ]
  },
  {
   "cell_type": "code",
   "execution_count": 60,
   "metadata": {},
   "outputs": [],
   "source": [
    "with connector(host=HOST) as conn:\n",
    "    re = conn.read( \"etiqueta_prueba\")"
   ]
  },
  {
   "cell_type": "code",
   "execution_count": 66,
   "metadata": {},
   "outputs": [
    {
     "name": "stdout",
     "output_type": "stream",
     "text": [
      "{'path': {'segment': [{'symbolic': 'etiqueta modificada'}]}, 'read_frag': {'elements': 1, 'offset': 0}, 'service': 82, 'input': bytearray(b'R\\t\\x91\\x0fetiqueta_prueba\\x00\\x01\\x00\\x00\\x00\\x00\\x00')}\n",
      "etiqueta modificada\n",
      "{'path': {'segment': [{'symbolic': 'etiqueta modificada'}]}, 'read_frag': {'elements': 1, 'offset': 0}, 'service': 82, 'input': bytearray(b'R\\t\\x91\\x0fetiqueta_prueba\\x00\\x01\\x00\\x00\\x00\\x00\\x00')}\n",
      "{'path': {'segment': [{'symbolic': 'etiqueta modificada'}]}, 'read_frag': {'elements': 1, 'offset': 0}, 'service': 82, 'input': bytearray(b'R\\t\\x91\\x0fetiqueta_prueba\\x00\\x01\\x00\\x00\\x00\\x00\\x00')}\n"
     ]
    }
   ],
   "source": [
    "print(re)\n",
    "print(re['path']['segment'][0]['symbolic'])\n",
    "re['path']['segment'][0]['symbolic']=\"etiqueta modificada\"\n",
    "print(re)\n",
    "conn.close()\n",
    "print(re)"
   ]
  },
  {
   "cell_type": "code",
   "execution_count": 32,
   "metadata": {},
   "outputs": [
    {
     "name": "stdout",
     "output_type": "stream",
     "text": [
      "['path.segment[0].symbolic', 'write_frag.elements', 'write_frag.offset', 'write_frag.data', 'write_frag.type', 'service', 'input']\n"
     ]
    }
   ],
   "source": [
    "from cpppo.server.enip import client\n",
    "with connector( host=host ) as conn:\n",
    "    conn.write(\"etiqueta\", [123])"
   ]
  },
  {
   "cell_type": "code",
   "execution_count": 66,
   "metadata": {
    "scrolled": true
   },
   "outputs": [
    {
     "name": "stdout",
     "output_type": "stream",
     "text": [
      "Tue Aug 14 14:45:23 2018 | Single Read  Tag  etiqueta_prueba | [12345]\n",
      "0 \n",
      " | Single Read  Tag  etiqueta_prueba \n",
      " | {'path': {'segment': [{'symbolic': 'etiqueta_prueba'}]}, 'read_tag': {'elements': 1}, 'service': 76, 'input': bytearray(b'L\\t\\x91\\x0fetiqueta_prueba\\x00\\x01\\x00')} \n",
      " | {'input': array('B', [204, 0, 0, 0, 196, 0, 57, 48, 0, 0]), 'service': 204, 'status': 0, 'status_ext': {'size': 0}, 'read_tag': {'type': 196, 'data': [12345]}} \n",
      " | 0 \n",
      " | [12345]\n",
      "Tue Aug 14 14:45:23 2018 | Single Write Tag  etiqueta | None\n",
      "1 \n",
      " | Single Write Tag  etiqueta \n",
      " | {'path': {'segment': [{'symbolic': 'etiqueta'}]}, 'write_tag': {'elements': 0, 'data': [], 'type': 202}, 'service': 77, 'input': bytearray(b'M\\x05\\x91\\x08etiqueta\\xca\\x00\\x00\\x00')} \n",
      " | {'input': array('B', [205, 0, 4, 1, 0, 0]), 'service': 205, 'status': 4, 'status_ext': {'size': 1, 'data': [0]}, 'write_tag': True} \n",
      " | (4, [0]) \n",
      " | None\n",
      "peer ======= ('192.168.1.140', 44818)\n",
      "enip.command ======= 111\n",
      "enip.length ======= 22\n",
      "enip.session_handle ======= 5570561\n",
      "enip.status ======= 0\n",
      "enip.sender_context.input ======= array('B', [0, 0, 0, 0, 0, 0, 0, 0])\n",
      "enip.options ======= 0\n",
      "enip.input ======= array('B', [0, 0, 0, 0, 0, 0, 2, 0, 0, 0, 0, 0, 178, 0, 6, 0, 211, 0, 255, 1, 7, 33])\n",
      "enip.CIP.send_data.interface ======= 0\n",
      "enip.CIP.send_data.timeout ======= 0\n",
      "enip.CIP.send_data.CPF.count ======= 2\n",
      "enip.CIP.send_data.CPF.item[0].type_id ======= 0\n",
      "enip.CIP.send_data.CPF.item[0].length ======= 0\n",
      "enip.CIP.send_data.CPF.item[1].type_id ======= 178\n",
      "enip.CIP.send_data.CPF.item[1].length ======= 6\n",
      "enip.CIP.send_data.CPF.item[1].unconnected_send.request.input ======= array('B', [211, 0, 255, 1, 7, 33])\n",
      "enip.CIP.send_data.CPF.item[1].unconnected_send.request.service ======= 211\n",
      "enip.CIP.send_data.CPF.item[1].unconnected_send.request.status ======= 255\n",
      "enip.CIP.send_data.CPF.item[1].unconnected_send.request.status_ext.size ======= 1\n",
      "enip.CIP.send_data.CPF.item[1].unconnected_send.request.status_ext.data ======= [8455]\n",
      "enip.CIP.send_data.CPF.item[1].unconnected_send.request.write_frag ======= True\n"
     ]
    }
   ],
   "source": [
    "from cpppo.server.enip.client import connector\n",
    "import time\n",
    "\n",
    "host = \"192.168.1.140\"\n",
    "tags = [ \"etiqueta_prueba\",\"etiqueta=(REAL)\"]\n",
    "\n",
    "with connector( host=host ) as conn:\n",
    "    for index,descr,op,reply,status,value in conn.pipeline(operations=client.parse_operations( tags ), depth=2 ):\n",
    "        print( \"{} | {} | {}\".format( time.ctime(), descr, value ))\n",
    "        print(\"{} \\n | {} \\n | {} \\n | {} \\n | {} \\n | {}\".format(index,descr,op,reply,status,value))\n",
    "    \n",
    "    req = conn.write(\"etiqueta_prueba\", [123])\n",
    "    assert conn.readable (timeout = 1.0), \"Falló la recepción de la respuesta\" \n",
    "    rpy = next (conn)\n",
    "    conn.unconnected_send(req)\n",
    "    for k,v in rpy.items():\n",
    "        print(\"{} ======= {}\".format(k,v))"
   ]
  },
  {
   "cell_type": "code",
   "execution_count": 65,
   "metadata": {},
   "outputs": [
    {
     "name": "stdout",
     "output_type": "stream",
     "text": [
      "Tue Aug 14 14:43:32 2018 | Single Read  Tag  etiqueta_prueba | [12345]\n",
      "Tue Aug 14 14:43:32 2018 | Single Read  Tag  etiqueta | None\n"
     ]
    }
   ],
   "source": [
    "host = \"192.168.1.140\"\n",
    "tags = [ \"etiqueta_prueba\",\"etiqueta\"]\n",
    "\n",
    "with connector( host=host ) as conn:\n",
    "    for index,descr,op,reply,status,value in conn.pipeline(operations=client.parse_operations( tags ), depth=2 ):\n",
    "        print( \"{} | {} | {}\".format( time.ctime(), descr, value ))"
   ]
  }
 ],
 "metadata": {
  "kernelspec": {
   "display_name": "Python 3",
   "language": "python",
   "name": "python3"
  },
  "language_info": {
   "codemirror_mode": {
    "name": "ipython",
    "version": 3
   },
   "file_extension": ".py",
   "mimetype": "text/x-python",
   "name": "python",
   "nbconvert_exporter": "python",
   "pygments_lexer": "ipython3",
   "version": "3.6.5"
  }
 },
 "nbformat": 4,
 "nbformat_minor": 2
}
